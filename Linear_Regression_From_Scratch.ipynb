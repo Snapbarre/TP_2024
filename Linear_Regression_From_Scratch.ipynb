{
  "cells": [
    {
      "cell_type": "markdown",
      "metadata": {
        "id": "PcLkRtbnx6WT"
      },
      "source": [
        "We start by importing the different module we will be using this session:\n",
        "  \n",
        "numpy : NumPy is the fundamental package for scientific computing in Python, you can read more about it [here](https://numpy.org/doc/stable/index.html)\n",
        "\n",
        "matplotlib : Matplotlib is a comprehensive library for creating static, animated, and interactive visualizations in Python. You can read more about it [here](https://matplotlib.org/)\n",
        "\n",
        "pdb : The module pdb defines an interactive source code debugger for Python programs, you can acces the documentation [here](https://docs.python.org/3/library/pdb.html)\n",
        "\n",
        "Seeking to build from scratch, these modules will be enough for this session"
      ]
    },
    {
      "cell_type": "code",
      "execution_count": 18,
      "metadata": {
        "id": "QxihaEzFxz1J"
      },
      "outputs": [],
      "source": [
        "import numpy as np\n",
        "import matplotlib.pyplot as plt\n",
        "\n",
        "from pdb import set_trace as pb"
      ]
    },
    {
      "cell_type": "markdown",
      "metadata": {
        "id": "UK7EuiTpy7L5"
      },
      "source": [
        "We then look at generating data for our training case, here is an example how we might accomplish that using additional random term sampled from a uniform distributions.\n",
        "\n",
        "We use a shape (size, 1) because we might want to use a variable number of features, the shape would then be (size, nb_features)"
      ]
    },
    {
      "cell_type": "code",
      "execution_count": 19,
      "metadata": {
        "id": "eG4EEx8Yx5DS"
      },
      "outputs": [],
      "source": [
        "size = 100\n",
        "a=2.5\n",
        "b=4\n",
        "\n",
        "x = np.random.uniform(size=(size,1))*10\n",
        "y = a*x + b\n",
        "y = y + 2*np.random.uniform(size = (size,1))"
      ]
    },
    {
      "cell_type": "markdown",
      "metadata": {
        "id": "MiQ7ls2H03oM"
      },
      "source": [
        "Now rewrite the previous code to use a standard normal distribution instead of a uniform one using [numpy.random.randn](https://numpy.org/doc/stable/reference/random/generated/numpy.random.randn.html)"
      ]
    },
    {
      "cell_type": "code",
      "execution_count": null,
      "metadata": {
        "id": "Bgm88UbJ03IM"
      },
      "outputs": [],
      "source": [
        "size = 100\n",
        "a=2.5\n",
        "b=4\n",
        "\n",
        "x= #your code here\n",
        "y= #your code here"
      ]
    },
    {
      "cell_type": "markdown",
      "metadata": {
        "id": "n03Y300k1um6"
      },
      "source": [
        "Then we will be splitting the dataset in two training and validation datasets, we would normally need to shuffle our data, but since it is already sampled at randomn we can just compute the corresponding indices, we will be splitting our dataset this way:\n",
        "\n",
        "- 80% for training\n",
        "- 20% for testing\n",
        "\n",
        "read on [numpy indexing](https://numpy.org/doc/stable/user/basics.indexing.html) to find how to index the two arrays x and y"
      ]
    },
    {
      "cell_type": "code",
      "execution_count": null,
      "metadata": {
        "id": "zenGFdnwx4-v"
      },
      "outputs": [],
      "source": [
        "l = int(size * 80/100)\n",
        "\n",
        "train_set = #your code here\n",
        "train_set_labels = #your code here\n",
        "\n",
        "test_set = #your code here\n",
        "test_set_labels = #your code here\n"
      ]
    },
    {
      "cell_type": "markdown",
      "metadata": {
        "id": "cxxXyV_a5qrA"
      },
      "source": [
        "If you ever need to shuffle an array, you can do that with the following"
      ]
    },
    {
      "cell_type": "code",
      "execution_count": 24,
      "metadata": {
        "colab": {
          "base_uri": "https://localhost:8080/"
        },
        "id": "-IdD81k2x45y",
        "outputId": "1413b683-36f5-4fb6-ac83-29e28f52fbb7"
      },
      "outputs": [
        {
          "name": "stdout",
          "output_type": "stream",
          "text": [
            "[0, 1, 2, 3, 4, 5, 6, 7, 8, 9]\n",
            "[5, 4, 7, 1, 6, 2, 9, 3, 8, 0]\n"
          ]
        }
      ],
      "source": [
        "lst = list(range(10))\n",
        "print(lst)\n",
        "np.random.shuffle(lst)\n",
        "print(lst)"
      ]
    },
    {
      "cell_type": "markdown",
      "metadata": {
        "id": "OzB1QWXz6K9v"
      },
      "source": [
        "You can now plot your data using pyplot to check for errors, your output should look something like this:"
      ]
    },
    {
      "cell_type": "markdown",
      "metadata": {
        "id": "m_sszcQC6tS4"
      },
      "source": [
        "![data_plot.png](data:image/png;base64,iVBORw0KGgoAAAANSUhEUgAAAioAAAGhCAYAAABPr581AAAAOXRFWHRTb2Z0d2FyZQBNYXRwbG90bGliIHZlcnNpb24zLjcuMSwgaHR0cHM6Ly9tYXRwbG90bGliLm9yZy/bCgiHAAAACXBIWXMAAA9hAAAPYQGoP6dpAABE9ElEQVR4nO3de3zT9d3//2cSoeXQhpbSJrVFKlNcQUVwxaJ4A0XKhkwu0OvSDQ8bX5gdbqLMAR6onUoVr8uzFvG3obvwNJWJeM0i4lQcxW4cxMKopyqnppVTWtEWSD6/P0ICaZM2haRJ2sf9dsuN5vN559N3cwPy7Of9fr/eJsMwDAEAAMQgc7Q7AAAAEAxBBQAAxCyCCgAAiFkEFQAAELMIKgAAIGYRVAAAQMwiqAAAgJhFUAEAADGLoAIAAGIWQQUAAMSsiAYVl8ulu+66Szk5OerRo4cGDhyoe+65R8dX7TcMQ/Pnz5fdblePHj00duxYffbZZ5HsFgAAiBMRDSoPPPCASktL9cQTT+jf//63HnjgAS1cuFCPP/64r83ChQv12GOPadGiRfroo4/Uq1cvFRQUqLGxMZJdAwAAccAUyU0JL7/8cmVkZOiPf/yj79iUKVPUo0cPLV26VIZhKDMzU7Nnz9bvfvc7SZLT6VRGRoaeffZZXX311W1+D7fbrd27dyspKUkmkylSPwoAAAgjwzDU0NCgzMxMmc3B75ucEslOjBw5UosXL9ann36qM888Ux9//LE+/PBDPfTQQ5Kk6upqORwOjR071vcaq9WqESNGqLy8PGBQaWpqUlNTk+/5rl27lJubG8kfAwAARMiOHTuUlZUV9HxEg8rcuXNVX1+vs846SxaLRS6XS/fdd59+/vOfS5IcDockKSMjw+91GRkZvnPNlZSUqLi4uMXxHTt2KDk5Ocw/AQAAiIT6+nplZ2crKSmp1XYRDSp/+ctf9Pzzz+uFF17Q4MGDtWnTJs2aNUuZmZm6/vrrT+ia8+bN06233up77v1Bk5OTCSoAAMSZtqZtRDSo3HbbbZo7d65vCOfss8/W119/rZKSEl1//fWy2WySpNraWtntdt/ramtrNXTo0IDXTEhIUEJCQiS7DQAAYkREV/189913LSbIWCwWud1uSVJOTo5sNptWr17tO19fX6+PPvpI+fn5kewaAACIAxG9ozJx4kTdd9996t+/vwYPHqyNGzfqoYce0i9/+UtJnts9s2bN0r333qszzjhDOTk5uuuuu5SZmalJkyZFsmsAACAORDSoPP7447rrrrv061//WnV1dcrMzNSvfvUrzZ8/39fm97//vQ4ePKgZM2bowIEDuuiii1RWVqbExMRIdg0AAMSBiNZR6Qj19fWyWq1yOp1MpgUAIE6E+vnNXj8AACBmEVQAAEDMIqgAAICYFdHJtAAAID653IYqqveprqFR6UmJystJlcXc8XvqEVQAAICfssoaFa/Yqhpno++Y3Zqooom5Gj/E3sorw4+hHwAA4FNWWaPCpRv8QookOZyNKly6QWWVNR3aH4IKAACQ5BnuKV6xVYHqlniPFa/YKpe74yqbEFQAAIAkqaJ6X4s7KcczJNU4G1VRva/D+kRQAQAAkqS6huAh5UTahQNBBQAASJLSk0LbvibUduFAUAEAAJKkvJxU2a2JCrYI2STP6p+8nNQO6xNBBQAASJIsZpOKJuZKUouw4n1eNDG3Q+upEFQAAIDP+CF2lU4dJpvVf3jHZk1U6dRhHV5HhYJvAADAz/ghdl2Wa6MyLQAAiE0Ws0n5A/tGuxsM/QAAgNhFUAEAADGLoAIAAGIWQQUAAMQsggoAAIhZBBUAABCzCCoAACBmEVQAAEDMIqgAAICYRVABAAAxi6ACAABiFkEFAADELIIKAACIWQQVAAAQswgqAAAgZp0S7Q4AAIC2udyGKqr3qa6hUelJicrLSZXFbIp2tyIu4ndUdu3apalTp6pv377q0aOHzj77bP3rX//ynTcMQ/Pnz5fdblePHj00duxYffbZZ5HuFgAAcaOsskYXPfCurnlmnW5+aZOueWadLnrgXZVV1kS7axEX0aCyf/9+XXjhherWrZveeustbd26Vf/zP/+jlJQUX5uFCxfqscce06JFi/TRRx+pV69eKigoUGNjYyS7BgBAXCirrFHh0g2qcfp/LjqcjSpcuqHThxWTYRhGpC4+d+5c/eMf/9CaNWsCnjcMQ5mZmZo9e7Z+97vfSZKcTqcyMjL07LPP6uqrr27ze9TX18tqtcrpdCo5OTms/QcAIJpcbkMXPfBui5DiZZJksybqwzmXxN0wUKif3xG9o/LGG2/o/PPP11VXXaX09HSdd955euaZZ3znq6ur5XA4NHbsWN8xq9WqESNGqLy8POA1m5qaVF9f7/cAAKAzqqjeFzSkSJIhqcbZqIrqfR3XqQ4W0aDy5ZdfqrS0VGeccYZWrlypwsJC/fa3v9Vzzz0nSXI4HJKkjIwMv9dlZGT4zjVXUlIiq9Xqe2RnZ0fyRwAAIGrqGkKbBhFqu3gU0aDidrs1bNgwLViwQOedd55mzJih6dOna9GiRSd8zXnz5snpdPoeO3bsCGOPAQCIHelJiWFtF48iGlTsdrtyc3P9jv3whz/U9u3bJUk2m02SVFtb69emtrbWd665hIQEJScn+z0AAIhVLreh8i/2avmmXSr/Yq9c7tCnhublpMpuTVSw2ScmSXarZ6lyZxXROioXXnihqqqq/I59+umnOu200yRJOTk5stlsWr16tYYOHSrJM7nmo48+UmFhYSS7BgBAxJVV1qh4xVa/eSZ2a6KKJuZq/BB7m6+3mE0qmpirwqUbZJJnToqXN7wUTcyNu4m07RHROyq33HKL1q1bpwULFujzzz/XCy+8oMWLF2vmzJmSJJPJpFmzZunee+/VG2+8oU8++UTXXXedMjMzNWnSpEh2DQCAiArXsuLxQ+wqnTpMNqv/8I7NmqjSqcNCCjzxLKLLkyXpzTff1Lx58/TZZ58pJydHt956q6ZPn+47bxiGioqKtHjxYh04cEAXXXSRnnrqKZ155pkhXZ/lyQCAWBOJZcWdrTJtqJ/fEQ8qkUZQAQDEmvIv9uqaZ9a12e7F6Rcof2DfDuhR7An185u9fgAAOAmB7nSwrDh8CCoAAJygYJNlr/5RaDW+OvOy4nAhqAAAcAK8k2Wbz59wOBv18DufqU/PbnJ+d7jFeenYHJXOvKw4XAgqAAC0g8ttaN2XezX3tU8ChhBD8qt70lWXFYcLQQUAgBAFGuoJxJB04LvDumXsmXrpn9v92tvaUUcFBBUAAEISbKinNQPSeurDOZd0qmXFHY2gAgBAG1xuQ8UrtrYrpEieybIWs6nLLkEOB4IKAABtqKje1+Zwz/GYLBs+ES2hDwBAZ9CeeidMlg0v7qgAANCG9tQ7YbJseBFUAABoQ15OquzWRDmcjUHnqfTp2U1PXjNMFwzsy52UMGLoBwCANljMJhVNzA163iTp/sln68Iz0ggpYUZQAQAgBOOH2DXj4hw1zyFmkzTj4hyGeiKEoAIAQAjKKmu0+INquZuN/RiGtPiDapVV1kSnY50cQQUAgDa0VkfFe6x4xVa5mqcYnDSCCgAAbWirjoohqcbZqIrqfR3XqS6CoAIAQBtCraPSnnorCA1BBQCANoRaR6U99VYQGoIKAABt8NZRCbbw2CTJTsn8iCCoAADQhuPrqDQPK5TMjyyCCgAAIRg/xK7SqcNks/oP79isiSqdOow6KhFCCX0AAEI0fohdl+XaVFG9T3UNjUpP8gz3cCclcggqAIBOzeU2whosLGaT8gf2DWMP0RqCCgCg0yqrrFHxiq1+NVDs7G4cV5ijAgDolMoqa1S4dEOLQm0OZ6MKl26g5H2cIKgAADodSt53HgQVAEBcc7kNlX+xV8s37VL5F3t9c1Ioed85MEcFABC3gs1B+fEQW0ivp+R97COoAADijstt6Il3P9PD73zW4pzD2ag//eOrkK5DyfvYR1ABAMSVssoa3f3GVjnqA98NMeSpFmsySa1NQaHkfXwgqAAA4oZ3JY8hyex2acT2T5S//RNJUnn/s/VR/7PlNltkSDLamCf703PtFGqLAx02mfb++++XyWTSrFmzfMcaGxs1c+ZM9e3bV71799aUKVNUW1vbUV0CAMSR41fyFFSt1b8en6oXX75Tvy1/Wb8tf1kvvnyn/vX4VBVUrQ3pem98XMOqnzjQIUHln//8p55++mmdc845fsdvueUWrVixQq+88oref/997d69W5MnT+6ILgEA4ox3JU9B1VqVvr5AKY0NLdqkNDZo0esLQgorrPqJDxEPKt9++61+/vOf65lnnlFKSorvuNPp1B//+Ec99NBDuuSSSzR8+HAtWbJEa9eu1bp16yLdLQBAnKlraJTZ7VLRO0975qAEaOPbyXj1YpndrpCuidgW8aAyc+ZMTZgwQWPHjvU7vn79eh0+fNjv+FlnnaX+/furvLw86PWamppUX1/v9wAAdH7pSYnK27lFmd/uDRhSvEySMhv2KG/nlpCuidgW0aDy0ksvacOGDSopKWlxzuFwqHv37urTp4/f8YyMDDkcjqDXLCkpkdVq9T2ys7PD3W0AQAzKy0nVme5vQ25/pvvboIHGJFb9xIuIBZUdO3bo5ptv1vPPP6/ExPAl1nnz5snpdPoeO3bsCNu1AQDRE6jC7PEsZpMuLxgW8vW8bZuHFd/w0MRcVv3EgYgtT16/fr3q6uo0bNixv1Qul0sffPCBnnjiCa1cuVKHDh3SgQMH/O6q1NbWymYLXlEwISFBCQkJkeo2ACAKQt3lOO+6Sfp+rk2JdY5Wh3+UlaW86yap9N91La5rY/fkuGIyjLZWmp+YhoYGff31137HfvGLX+iss87SnDlzlJ2drX79+unFF1/UlClTJElVVVU666yzVF5ergsuuCCk71NfXy+r1Sqn06nk5OSw/xwAgMg6vjbK8bxBpHTqMP9QsWyZjKOfG0HDymuvSUdXkXr3/qlraPTMc8lJ5U5KDAj18ztid1SSkpI0ZMgQv2O9evVS3759fcenTZumW2+9VampqUpOTtZvfvMb5efnhxxSAADxra1djk3y7HJ8Wa7tWLiYPFmm116TZsyQ9u71f1HfvtLixb6QInmGjPIH9o3Uj4AIi2pl2ocfflhms1lTpkxRU1OTCgoK9NRTT0WzSwCADtSeXY79wsbkydIVV0jvved5SNLo0Z6HxRK5DqPDRWzop6Mw9AMA8Wv5pl26+aVNAc+Z3S7l7dyi9G/36z9/+iNd9IvJhJBOJOpDPwAAtCVYHZOCqrUqWr1YmQ17PAdWSCrOkh591G9YB51fh+31AwDoWtpabix5aqPYrYl+k2K9JfJt3pDitWuXdOWV0rJlke04Ygp3VAAAYRfqcmOL2aSiibkqXLrBUxbf7VLR6sWSAvwmbRiSySTNmuWZn8IwUJfAHRUAQFh5lxs3nyTrcDaqcOkGlVXW+B0fP8Su0qnDZLMeLZHfsCf4h5NhSDt2SGvWRKbziDkEFQBA2LS23NjkdmnE9s1ae+8Tcr37d8l1bNPA8UPs+nDOJfpDXojLiGtq2m6DToGhHwBA2ARbbtxicuzLC2RkZenTefdq28ixvkJsZw49M7RvZKeqbFdBUAEAhE1dQ+CQUvr6ghbHjZ07dcbMG/TQpNu1ctBIzxyWnwzS+Kwsz8TZQNUzTCYpK0saNSoS3UcMYugHABA2zZcbm1uZHOt9XrR6scxul2cOy4sfa+Psuz0nTM3K3HufP/IIE2m7EIIKACBsmi83bmtyrFlSZsMe5e3c4pvX8uvvB8j1l1ekU0/1b5yVJb36KnVUuhiGfgAAYdN8uXH6t/tDep23na9k/nmjlf/VV57VPTU1njkpo0ZxJ6ULIqgAAMLKu9y4eMVW1fVOCek1zdvVNTR6Qsno0RHoIeIJQQUAEHbjh9h1Wa5NFZ+fre/ffVyJdQ6ZAkyOdUtyJKWpImuw3/FgpfXR9TBHBQDQPi6XZ8fiF1/0/HlcPZTjWcwm5Z+Zrh5PPeGZs9Jscqz76J/Fl86Q2+wZ0jHJU8E2Lyc1Qp1HvCGoAACCarFfz6uvSQMGSGPGSD/7mefPAQNa339n8mTPJNhmk2MdSWkqPLo0WZJvAm7RxFxZzM1W/KDLMhlGoIXq8SPUbaIBAO3TfL+egqq1WnS0HsrxMcI4eqfE/ZdXZLlySvALuly+ybEVjd11y+4k7Wo47DsdaC8gdF6hfn4TVACgC3K5DVVU71NdQ6OvKuzxdzG8+/V4PyDMbpc+XDRNtiBLjd2S6qz9tOn9DRp/blZY+oDOLdTPbybTAkAX09bOxoH26/HWQwnGLMnm/EbPPvC/0u03hHRXxGI2KX9giHv7oMtijgoAdCGh7GwcaL+e9tRDKV6xVS53XN+sRwwhqABAF9HazsbeY8Urtsrh/L7F+fbUQ6lxNqqiet+JdxQ4DkEFALqIYDsbe3mrwu47eKjla7MGa3dSmm9JcXNuSbuPq4cSaHNC4EQQVACgE2mxnPi4IZhQw8Mr63cqKfEUv5U9brNFxZfO8HzdrH2geigUbEO4MJkWADqJtibJhhoetjkaAh5fOWikCifdrqLVi/0m1jqS0lR86QytHDRSJkk2CrYhjAgqANAJNF9O7OWdJFs6dZguy7UptVf3gEM7odqcd4n+/MurtenFN5X+7X7V9U5RRdZguc0WCrYhIggqABDn2poka5JnkuxluTZNGpqpP/3jq3Zd3yTpf646V/Y+PXy1Tspy0lrcvbFRsA0RQFABgDgX6iTZiup9uizX1u6gYkja/90hTR5+rJCbb9NBCrYhwggqABDnQp0kW9fQqMvPyZTdmthqsAnk633ftThGwTZ0BFb9AECcC3WSbHpSoixmky4/x9bu73Faas92vwYIB4IKAMS5vJxU2a2JCjboYpJn9U9eTqpK/rZVz6z5ql3XN5uka/MHnGQvgRNDUAGAeOZyyfLB+1pkqdKI7Ztlcbv8Th+/EmdlpUNPf1Dd7m8xfVSOup/CxwWigzkqABCvli2Tbr5Z2rlT50p6SVJtcprmX+KpaSIdW4lzWa5NP7rvnXZd3mzyhJR5P8kNf9+BEBFUACAeLVsmXXmlZPgvSk5v2KtFy0v0zweflmvSZN9KnPIv9oZcP2XUGWkafWY/XZs/gDspiDr+BgJAvHG5PHdSjJaVU0yGIZOkvEfvUf6APr7lwu3Ze+fXo3+gaaNOJ6QgJkT0b2FJSYl+9KMfKSkpSenp6Zo0aZKqqqr82jQ2NmrmzJnq27evevfurSlTpqi2tjaS3QKA+LZmjbRzZ/DzhiHt2OFpd1SoK4NSe3Wj/D1iSkSDyvvvv6+ZM2dq3bp1WrVqlQ4fPqxx48bp4MGDvja33HKLVqxYoVdeeUXvv/++du/ercmTJ0eyWwAQ32pq2t3OuzKoLfdeMYSibYgpEZ2jUlZW5vf82WefVXp6utavX6+LL75YTqdTf/zjH/XCCy/okksukSQtWbJEP/zhD7Vu3TpdcMEFkeweAMQne2gl6isauyvv6NcWs0lFE3MD7gfk9auLc/STczLD0kUgXDp0ANLpdEqSUlM9txXXr1+vw4cPa+zYsb42Z511lvr376/y8vKA12hqalJ9fb3fAwC6kr9ZB6omKU3uIOfdknYnpWnWrt5yuY/FkvFD7CqdOqzFnZW+vbrrqZ8NY3UPYlKHrfpxu92aNWuWLrzwQg0ZMkSS5HA41L17d/Xp08evbUZGhhwOR8DrlJSUqLi4ONLdBYCYVFZZo1+/vFkFl85Q6esL5Jb/b5ze8FJ86Qzt/vaIKqr3+ZW5Z48exJsOu6Myc+ZMVVZW6qWXXjqp68ybN09Op9P32LFjR5h6CAAdy+U2VP7FXi3ftEvlX+z1u/sRrP3cZZ9IklYOGqnCSbfLkZTm18aRlKbCSbf76qgEWu3j3aPniqGnKn9gX0IKYlqH3FG56aab9Oabb+qDDz5QVtax3TdtNpsOHTqkAwcO+N1Vqa2tlc0WeC+KhIQEJSQkRLrLABBRZZU1Kl6x1W9zQPvR4mzjhwSeg7Lui7068N1h3/NVZ4xQfUJP5W/3hJfy/mfro/5ny222+NqEutoHiFURDSqGYeg3v/mN/vrXv+q9995TTk6O3/nhw4erW7duWr16taZMmSJJqqqq0vbt25Wfnx/JrgFA1JRV1gSc1OpwNqpw6QaVTh3WIqy43IZeWX/sDnJB1VoVrV6szIY9vmNXVq5W8aXHVaVNTmCpMeJeRIPKzJkz9cILL2j58uVKSkryzTuxWq3q0aOHrFarpk2bpltvvVWpqalKTk7Wb37zG+Xn57PiB0Cn5HIbKl6xNeDKG0OevXmKV2zVZbk235DM3zbv1p3LK7XvoOduSkHVWpW+vqDF620Ne1T6+gLf0M/dPx3MsA7inskwApQ2DNfFTYH/gSxZskQ33HCDJE/Bt9mzZ+vFF19UU1OTCgoK9NRTTwUd+mmuvr5eVqtVTqdTycnJ4eo6AERE+Rd7dc0z69ps9+L0C5Q/sK9K/rbVbyNBs9ulDxdNk61hT8BJhm555qlsen+jfnJeVoAWQGwI9fM74kM/bUlMTNSTTz6pJ598MpJdAYCYEGop+7qGRv1tc02L3Y7zdm7xG+5pziwps2GP9m9dLxFU0AmwKSEAdKBQJ7em9UrQr5aub/n6b/eH9Prvt7dSYh+II+w4BQAdyFvKPtjMEZM8q3/chqFvm460OF/XOyWk79OjP3dT0DkQVACgA3hrpry5ebeu/lG2b+Jsc4akq3+UrXVf7g14nYqswdrdRlVah7WfzvrPCeHpOBBlDP0AQIQFqpnSp2c3HTri1neHXC3aP/zOZ+rV3dLiuCS5zRYVt1GVtubuEtm68d87OgfuqABABHlrphwfUiTpwHeHA4YUr4OtnAtWlbbO2k8fP/z/6bxZ006u00AMIXIDQIQcXzPF7HYpb+cWpX+7X3W9U1SRNdivgmx7rRw0Uv8YnK8Xf+hS0/ad6tE/S2f95wTupKDT4W80AERIRfU+1TgbA1aR3Z2U5ldF9kT899XDdXaQcvtAZ8HQDwBESF1Do6+KrK1Z7RNvFdmCqrVtXsea6P87pS05QYsClNkHOiPuqABAhKT37Kai1Ysltfyt0CzP5Nei1Yu16owRrQ4DPTV1uMwmk+oaGpWelKi8nFRK46PLIKgAQJi53IbWfbFXO14vU34IVWTzdm7Ruv7nBGxjtybqgtP7EkzQZRFUACCMyiprNHfZJzrw3WH9dGulrg7hNcGqzZokFU3MJaSgSyOoAMBJcLkNVVTvU11Do77ac1APv/OZ71yoVWQDtbNbE1U0MZd5KOjyCCoAcILKKmt09xtb5agPvNGgt4pssJ2OZTLJyMrSzXdP038dPKx93zYptVd32aw9mIcCHEVQAYATUFZZoxuXbmi1TWtVZGXyhBDTI48o/8z0iPUTiHcsTwaAdnK5Dc1d9klIbYNVkTWysqRXX5UmT45EF4FOgzsqANBO677cqwPfHQ65/cpBI7XqjBF+lWlvvnsad1KAEBBUAKCdlq77OuS2zUvnv3nWRXKbLbqmHUEH6MoIKgDQDmWVNXqr0hFS29ZK56cnXRCpLgKdCnNUACBE3k0GQ9Fa6fxFry9Q3sb3ItBDoPMhqABAMy63ofIv9mr5pl0q/2KvXG5D0rFNBttidrtaLZ0vk0mWW2+RXK7wdhzohBj6AYDjlFXWqHjFVr9A4i2+1nTEHdI18nZu8Rvuac5kGNKOHdKaNdLo0SfbZaBTI6gAwFFllTUqXLpBRrPjDmejCpdu0JRhp4Z0nWAl8VuoqWlfB4EuiKACADo2/6R5SJHkO/bqhl0hXSvU0vmyUx4faAtzVABAoc8/CelaR0vnBx0oMpmk7Gxp1KiwfD+gMyOoAICkuobwhBTpWOl8SS3DytHS+XrkEcliCdv3BDorggoASEpPSgzr9YKVzhel84F2YY4KgC7L5TZUUb1PdQ2NSuuVIFtyomrrGwPOU2kvk0nK/MU1+vqBm5Wxc4sstQ7PnJRRo7iTArQDQQVAlxRoGXKfnt3CElIk6clrhukn5xydLMuePsAJI6gA6HKCLUNuz0aDwfTt1V33/ccQjR/Cih4gHAgqALqU1pYhn6zkxFNUPu9SdT+F6X9AuPCvCUCXEs5lyM3dP/kcQgoQZjHxL+rJJ5/UgAEDlJiYqBEjRqiioiLaXQLQSYVzGfLxfnVxzrE5KQDCJupB5eWXX9att96qoqIibdiwQeeee64KCgpUV1cX7a4B6ITCvQw5pecpeupn52neT3LDel0AHlEPKg899JCmT5+uX/ziF8rNzdWiRYvUs2dP/elPf4p21wB0Qnk5qbJbE2UKw7VuGXum/nXnOP3knMwwXA1AIFENKocOHdL69es1duxY3zGz2ayxY8eqvLw84GuamppUX1/v9wCAUFnMJhVNzJXZ7dIF2zfrp1vf1wXbN8vsdoV8Dbs1UYumDtPNY8+QxRyOyAMgmKiu+tmzZ49cLpcyMjL8jmdkZGjbtm0BX1NSUqLi4uKO6B6ATmr8p+Wq/PNN6lF7bPfi3UlpKr50hlYOGunX1iTPpoS3jD1DA9J6KT0pUXk5qQQUoINEfeinvebNmyen0+l77NixI9pdAhBPli2TrrzSL6RIkv3bvVq0vERX7/in33Gb7+7Jmbpi6KnKH9iXkAJ0oKjeUUlLS5PFYlFtba3f8draWtlstoCvSUhIUEJCQkd0D0CMOr70fbvucLhc0s03S0bLKiomw5BMJpWs+ZOueOfXqvvuMHdPgBgQ1aDSvXt3DR8+XKtXr9akSZMkSW63W6tXr9ZNN90Uza4BiFGBSt/bkhN0TV7/todm1qyRdu4MfnHDkGnHDuXv3iqNHh3+zgNot6hXpr311lt1/fXX6/zzz1deXp4eeeQRHTx4UL/4xS+i3TUAMSZY6XtHfZMefucz33O7NVFFE3NblrGvqVFIQm0HIOKiHlT+67/+S998843mz58vh8OhoUOHqqysrMUEWwBdW3tK3zucjSpcukGlU4f5hxV7iAXZQm0HIOJMhhFgsDaO1NfXy2q1yul0Kjk5OdrdARBGx89F2dPQpHv+79/ter3dmqgP51xybBjI5ZIGDJB27Qo4T0Umk5SVJVVXSxbLyf8AAIIK9fM76ndUACCQQHNR2qvG2agn3v1MN48903PAYpEefVS68kpPKDk+rJiOhplHHiGkADEk7pYnA+j8vHNRwrF54MPvfKayyuPmnEyeLL36qnTqqf4Ns7I8xydPPunvCSB8GPoBEBO8wzyO+kbd8+YW7Tt4OGzXbjEEJHmGgdas8UyctdulUaO4kwJ0IIZ+AMSN9g7zmN0u5e3covRv96uud4oqsgbLbQ4eMmqcjaqo3qf8gX2PHbRYWIIMxAGCCoCoCrbkOJiCqrUqWr1YmQ17fMeClb8/Xl3DyQ8jAeh4zFEBEDXtWXIseUJK6esLZDsupEiSrWGPSl9foIKqtUFfm56UeBI9BRAtBBUAUVNRva9dwz1Fqxd7vm5+7uifRasXt9gF2STPHJW8nNST6yyAqCCoAIia9gzH5O3cosyGPUH/0zJLymzYo7ydW3zHvFNniybmsl8PEKeYowIgatozHJP+7f52t7MFK6UPIG4QVABETV5OquzWRDmcjUHnqZgkJXYzq653SkjX/NV/XahLBw9l52Ogk2DoB0DUWMwmFU3MbbWNIen7w25VZA3W7qQ0uYO0c0sysrM1+OrLdcXQU5U/sC8hBegECCoAomr8ELue/NkwtZUp3GaLii+d4fm6+bmjf3469x6KtgGdDEEFQNSl9OoudwhrlFcOGqnCSbfLkZTmd9yRlKbCSbdr28ixEeohgGhhjgqADnP8bsjHzyFpz+qflYNGatUZIwJWpr2BWilAp0NQAdAhApXJtx9dldPeYmxus0Xr+p/jdyy1VzdqpQCdEEM/ACIu2G7IDmejCpdu0P6Dh2S3Jupkpr7ee8UQJs8CnRB3VACcuNZ2ID56zr1rt954r0amlDNkNNs40JBn+fE9/7dVd034oWa+sFGmo8e9mj8P5FcX5+gn52SG7ccCEDsIKgBOzLJl0s03Szt3HjuWlSU9+qjn66PnzJKeUvCNAw15djdO6ZWg0qnDWgwPeYu2SWpxrm+v7rrniiH6yTkUdAM6K5NhGKHuBxaT6uvrZbVa5XQ6lZycHO3uAF3DsmXSlVdKzf/7MJlaHjvKu4S4cNLtAXc5fvTqobpi6KlBJ9xKwSfjAog/oX5+c0cFQPu4XJ67JYECSSu/95jlCStFqxdr1Rkj5G42DJTWO0GSpwhc/sC+Aa/R2jkAnROTaQG0z5o1/sM97eDdOHDWhy/ogu2b/Xc6jut7uwAihaACoH1qak76Er8tf1kvvXi7Plw0TQVVayVJew42nfR1AXQ+BBUA7WMP38RVW8Melb6+QAVVa9tdSwVA10BQAdA+o0Z5VveYAk9iNRT6KI73P6Divz+jvP7WcPQOQCdDUAHQPhbLsSXIzcKKcfS5oZYbBwZjlmRzfiPLPz4MWxcBdB4EFQDtN3my9OqrMk491e/w9+l23Tjp9oAbB7YpDHNfAHQ+LE8GcELKzszXPTf+Udlb1vs2B/x80FDt+d5zL8W7ceDIrz7Wb8tfbvuCYZz7AqDzoOAbgHbz7t0Tyn8eZrdLHy6aJlvDnsC3cE0mz5yX6upj5fcBdHqhfn4z9AOgXVxuQ8UrtrYZUryzV9xmi4ovneH5ukWjo60eeYSQAiAgggqAgFyHj2jL88v1r5InteX55XIdPiJJqqje12IX5EBSenX3fb1y0Ejd/rMiNWU0G97JypJefdUz5wUAAmCOCoAWNj7yR2UWzdXg+j2+Y7W/TtPu4vtVN3p8SNe4a8IPZbP2OG5fnp/IYtwVfLdlAAggYndUvvrqK02bNk05OTnq0aOHBg4cqKKiIh06dMiv3ebNmzVq1CglJiYqOztbCxcujFSXABzlchsq/2Kvlm/apfIv9srlPjaQs/GRP+rcW/6f+h0XUiSpX/0enXvL/5Plr38N6XvYrD2UP7Cvrhh6qvIH9vVsHmixSKNHS9dc4/mTkAKgDRG7o7Jt2za53W49/fTT+sEPfqDKykpNnz5dBw8e1H//939L8kykGTdunMaOHatFixbpk08+0S9/+Uv16dNHM2bMiFTXgC6trLJGxSu2+g3f2K2JKpqYq0vOSJO9aK6klr/FeDcVPP/RPyjzd0tV8+3hgPNUTJJsVs/OxgBwsjp01c+DDz6o0tJSffnll5Kk0tJS3XHHHXI4HOre3TOePXfuXL3++uvatm1bSNdk1Q8QmMttqKJ633FDL6latdURcLWOSZ4ibaNrtujZP89p89qv/vf/6rZvUiT5V6H1TqAtnTpM44ew3BhAcKF+fnfoHBWn06nU1GO/ZZWXl+viiy/2hRRJKigo0AMPPKD9+/crJSWlxTWamprU1HRs87L6+vrIdhqIQ4HumtiSE9V4xBXwLoj3WPL+PQHOtjTgkFOlUy9t+T2O3pkhpAAIlw4LKp9//rkef/xx37CPJDkcDuXk5Pi1y8jI8J0LFFRKSkpUXFwc2c4CcSxYjRNHfdsrdep6t/w3F0iP/lkaP8Suy3JtLe7aWMyB9wACgBPR7sm0c+fOlclkavXRfNhm165dGj9+vK666ipNnz79pDo8b948OZ1O32PHjh0ndT2gMwm1xkkwFVmDtTspLeg+PW5JDms/nfWfEyRJFrOp5YRZAAijdt9RmT17tm644YZW25x++um+r3fv3q0xY8Zo5MiRWrx4sV87m82m2tpav2Pe5zabLeC1ExISlJCQ0N5uA11CqDVOgvEWZyt9fYHc8v9Nxhteau4uka0blQ0AdIx2/2/Tr18/9evXL6S2u3bt0pgxYzR8+HAtWbJEZrP/DZz8/HzdcccdOnz4sLp16yZJWrVqlQYNGhRw2AdA6+oaTjykeK0cNFKFk25X0erFymw4NmelLrmfaopLdN6saSf9PQAgVBFb9bNr1y6NHj1ap512mp577jlZjquX4L1b4nQ6NWjQII0bN05z5sxRZWWlfvnLX+rhhx8OeXkyq37QFQVa0WMxm1T+xV5d88y6sHwPs9ulvJ1blP7tfn2f1k9Pls5S94RuYbk2AER91c+qVav0+eef6/PPP1dWVpbfOW82slqtevvttzVz5kwNHz5caWlpmj9/PjVUgFa0Vgflslyb7NZEOZyNQWuc9OnZTQmnmOWoP7Z6LqVnN+3/7rBvmbLkGQb6qP85kjzLjQkpAKKB3ZOBOBJsRc/x9UskqXDpBknBa5wEWq2zaqsjaABiuTGAcAv185ugAsQJl9vQRQ+8G3SyrLci7IdzLjnh0BFsSAkAwi3qQz8AwqutFT2GpBpnoyqq9/nVOHE4v9e+g4eU2jtB1h7d5XIbQcOHd7kxAMQKggoQJ9pa0eOd/NrtL19J+YNlGTVKzu8PaeHKKoZzAMQtggoQJ9KTEoOeK6hae2w58YueY99n2PV6/i9UM2ikX1uHs1GFSzewHw+AuNDuyrQAoiMvJ1V2a6KaD9oUVK1V6esLZGvw36cnobZGT72+QAVVa/2OeyelFa/YKpc7rqeoAegCCCpAnLCYTSqamCvp2Aoes9ulotWeis/N/zF7nxetXiyz2+V37vj5LAAQywgqQIxzuQ2Vf7FXyzftkrVHdz35s/OUmdRNF2zfrFkfvqDMhj1B/yGbJWU27FHezi0Bz4ejki0ARBJzVIAYFqi429U7/ql3Vi9Wj9qakK+T/u3+wMdbmfcCALGAoALEqLLKGt14tHCbV0HVWi14fUG7r1XX23/vLG/Nlbyc1JPpIgBEHEEFiEEut6G5yz7xO9bafJRg3JIcSWmqyBrsO+ad31I0MZdibgBiHkEFiEFPvPu5Dnx32O9Y3s4tfrsZt8lkkknSYxNnym0+blNQ6qgAiCMEFSDGuNyGlvyjusXxYPNMgsrKkumRR3TfpP/QFZTFBxCnCCpAjKmo3qcD3x9ucbz5PJOg7rxTuvRSadQoyWKRRaIsPoC4RVABIuhENvkLtmS4ImuwdielyRZsObLJJGVlSXffLVksgVoAQNwhqAAREmhpcSj77ARbMuw2W1R86QyVvr5AbjWbUGs6Gn4eeYSQAqBToeAbEAFllTUqXLqhxW7H3n12yiqD1EBxuZT39WZd99VaXbB9c4uKsisHjVThpNtVl5zm/7qsLOnVV6XJk8P5YwBA1JkMw4jrzT7q6+tltVrldDqVnJwc7e4AcrkNXfTAuy1Cipe3hsmHcy7xHwZatky6+WZp507fod1JaSq+dIZWHrexoElS6TXnavz+z6WaGslu981HAYB4EernN0M/QJhVVO8LGlIk/312fJNcly2TrrxSavZ7g61hj0pfX6DCSbdr5aCRzYaOsiL3QwBAjCCoAGEW6v45//j8G8/kWsPtuZMS4OamWZJhMunh8mf18QM3K+8H/VhaDKBLIagAYRbq/jlP/P0LvbZhlx61HVDeccM9zZkMQz1rdyt/91bpzNFh6iUAxAcm0wJhlpeTKrs1UaHc93A4G7X0rx+FduGa0DchBIDOgqAChJnFbFLRxFxJajOsGGpHITc7Je8BdD0EFSACxg+xq3TqMNmsbQ8DeQu5GaYgscZkkrKzPSt7AKCLIagAETJ+iF0fzrlEN435QavtvIXcJB0r3OZFITcAXRxBBYggi9mkC3+Q1ma7lYNG6tMnlkinnup/gkJuALo4Vv0AEeadXOtwNipQdUVvAbgf3Hid9Kup0po1FHIDgKMIKkCEeSfXFi7dIJPkF1a8Az1FE3OP1kexSKNHd3gfASBWMfQDdIBgk2tt1kSVTh3W6iaFANCVcUcF6CDjh9h1Wa5NFdX7VNfQqPSkRE9lWirNAkBQBBWgA1nMpmP7+wAA2sTQDwAAiFkdElSampo0dOhQmUwmbdq0ye/c5s2bNWrUKCUmJio7O1sLFy7siC4BAIA40CFB5fe//70yMzNbHK+vr9e4ceN02mmnaf369XrwwQd19913a/HixR3RLQAAEOMiPkflrbfe0ttvv63XXntNb731lt+5559/XocOHdKf/vQnde/eXYMHD9amTZv00EMPacaMGZHuGgAAiHERvaNSW1ur6dOn63//93/Vs2fPFufLy8t18cUXq3v37r5jBQUFqqqq0v79+wNes6mpSfX19X4PAADQOUUsqBiGoRtuuEE33nijzj///IBtHA6HMjIy/I55nzscjoCvKSkpkdVq9T2ys7PD23EAABAz2h1U5s6dK5PJ1Opj27Ztevzxx9XQ0KB58+aFtcPz5s2T0+n0PXbs2BHW6wMAgNjR7jkqs2fP1g033NBqm9NPP13vvvuuysvLlZCQ4Hfu/PPP189//nM999xzstlsqq2t9TvvfW6z2QJeOyEhocU1AQBA59TuoNKvXz/169evzXaPPfaY7r33Xt/z3bt3q6CgQC+//LJGjBghScrPz9cdd9yhw4cPq1u3bpKkVatWadCgQUpJSWlv14AWXG6DSrAAEMcituqnf//+fs979+4tSRo4cKCysrIkST/72c9UXFysadOmac6cOaqsrNSjjz6qhx9+OFLdQhdSVlmj4hVbVeNs9B2zWxNVNDGXvXUAIE5EtTKt1WrV22+/rerqag0fPlyzZ8/W/PnzWZqMk1ZWWaPCpRv8QookOZyNKly6QWWVNVHqGQCgPUyGYRhtN4td9fX1slqtcjqdSk5OjnZ3EANcbkMXPfBui5DiZZJn1+IP51zCMBAAREmon9/s9YNOp6J6X9CQIkmGpBpnoyqq93VcpwAAJ4Sggk6nriF4SDmRdgCA6CGooNNJT0oMazsAQPREfK8fIOJcLmnNGqmmRrLblXfhRbJbE+VwNirQBCzvHJW8nNSO7ikAoJ24o4L4tmyZNGCANGaM9LOfSWPGyHJ6jp7q8ZUkTyg5nvd50cRcJtICQBwgqCB+LVsmXXmltHOn//Fdu3TerdO1zOaQzeo/vGOzJqp06jDqqABAnGB5MuKTy+W5k9I8pHiZTFJWllxffKmK7U4q0wJAjAn185s5KohPa9YEDymSZBjSjh2y/OND5Y8e3WHdAgCEF0M/iE81IVaWDbUdACAmEVQQn+whzjEJtR0AICYx9IP4NGqUlJUl7drlGeZp7ugcFY0a1WL5skaNkiyWju8zAKDduKOC+GSxSI8+6vna1GxyrPf5I49Iy5e3WL6sAQM8K4YAADGPoIL4NXmy9Oqr0qmn+h/PyvIcl4IuX9aVVxJWACAOsDwZ8S/Q0I4U0vJlVVczDAQAUcDyZHQdFovUfAnye++FtHxZa9a0fC0AIGYw9IPOieXLANApEFTQObF8GQA6BYIKOifv8uXmK4K8TCYpO/vYfBYAQEwiqKBzCnX5MhNpASCmEVTQebW1fHny5Oj0CwAQMlb9IGJcbkMV1fuiu3Px5MnSFVdQmRYA4hRBBRFRVlmj4hVbVeNs9B2zWxNVNDFX44d08ATWQMuXAQBxgaEfhF1ZZY0Kl27wCymS5HA2qnDpBpVVsiQYABAaggrCyuU2VLxiqwKVO/YeK16xVS53XBdEBgB0EIIKwqqiel+LOynHMyTVOBtVUb2v4zoFAIhbBBWEVV1D8JByIu0AAF0bQQVhlZ6UGNZ2AICujaCCsMrLSZXdmqhgi5BN8qz+yctJ7chuAQDiFEEFYWUxm1Q0MVeSWoQV7/OiibkdX08FABCXCCoIu/FD7CqdOkw2q//wjs2aqNKpwzq+jgoAIG5R8A0RMX6IXZfl2qJfmRYAENciekfl//7v/zRixAj16NFDKSkpmjRpkt/57du3a8KECerZs6fS09N122236ciRI5HsEjqQxWxS/sC+umLoqcof2JeQAgBot4jdUXnttdc0ffp0LViwQJdccomOHDmiyspK33mXy6UJEybIZrNp7dq1qqmp0XXXXadu3bppwYIFkeoWAACIIybDMMJeIvTIkSMaMGCAiouLNW3atIBt3nrrLV1++eXavXu3MjIyJEmLFi3SnDlz9M0336h79+4hfa/6+npZrVY5nU4lJyeH7WcAAACRE+rnd0SGfjZs2KBdu3bJbDbrvPPOk91u149//GO/Oyrl5eU6++yzfSFFkgoKClRfX68tW7YEvXZTU5Pq6+v9HgAAoHOKSFD58ssvJUl333237rzzTr355ptKSUnR6NGjtW+fp3S6w+HwCymSfM8dDkfQa5eUlMhqtfoe2dnZkfgRAABADGhXUJk7d65MJlOrj23btsntdkuS7rjjDk2ZMkXDhw/XkiVLZDKZ9Morr5xUh+fNmyen0+l77Nix46SuBwAAYle7JtPOnj1bN9xwQ6ttTj/9dNXU1EiScnNzfccTEhJ0+umna/v27ZIkm82miooKv9fW1tb6zgWTkJCghISE9nQbAADEqXYFlX79+qlfv35tths+fLgSEhJUVVWliy66SJJ0+PBhffXVVzrttNMkSfn5+brvvvtUV1en9PR0SdKqVauUnJzsF3AAAEDXFZHlycnJybrxxhtVVFSk7OxsnXbaaXrwwQclSVdddZUkady4ccrNzdW1116rhQsXyuFw6M4779TMmTO5YwIAACRFsI7Kgw8+qFNOOUXXXnutvv/+e40YMULvvvuuUlJSJEkWi0VvvvmmCgsLlZ+fr169eun666/XH/7wh0h1CQAAxJmI1FHpSNRRAQAg/kS1jgoAAEA4EFQAAEDMIqgAAICYRVABAAAxi6ACAABiFkEFAADELIIKAACIWQQVAAAQswgqAAAgZhFUAABAzCKoAACAmEVQAQAAMYugAgAAYhZBBQAAxCyCCgAAiFkEFQAAELMIKgAAIGYRVAAAQMwiqAAAgJhFUAEAADGLoAIAAGIWQQUAAMQsggoAAIhZBBUAABCzCCoAACBmEVQAAEDMIqgAAICYRVABAAAx65Rod6AzcrkNVVTvU11Do9KTEpWXkyqL2RTtbgEAEHcIKmFWVlmj4hVbVeNs9B2zWxNVNDFX44fYo9gzAADiD0M/YVRWWaPCpRv8QookOZyNKly6QWWVNVHqGQAA8YmgEiYut6HiFVtlBDjnPVa8Yqtc7kAtAABAIBELKp9++qmuuOIKpaWlKTk5WRdddJH+/ve/+7XZvn27JkyYoJ49eyo9PV233Xabjhw5EqkuRVRF9b4Wd1KOZ0iqcTaqonpfx3UKAIA4F7Ggcvnll+vIkSN69913tX79ep177rm6/PLL5XA4JEkul0sTJkzQoUOHtHbtWj333HN69tlnNX/+/Eh1KaLqGoKHlBNpBwAAIhRU9uzZo88++0xz587VOeecozPOOEP333+/vvvuO1VWVkqS3n77bW3dulVLly7V0KFD9eMf/1j33HOPnnzySR06dCgS3Yqo9KTEsLYDAAARCip9+/bVoEGD9Oc//1kHDx7UkSNH9PTTTys9PV3Dhw+XJJWXl+vss89WRkaG73UFBQWqr6/Xli1bgl67qalJ9fX1fo9YkJeTKrs1UcEWIZvkWf2Tl5Pakd0CACCuRSSomEwmvfPOO9q4caOSkpKUmJiohx56SGVlZUpJSZEkORwOv5AiyffcOzwUSElJiaxWq++RnZ0diR+h3Sxmk4om5kpSi7DifV40MZd6KgAAtEO7gsrcuXNlMplafWzbtk2GYWjmzJlKT0/XmjVrVFFRoUmTJmnixImqqTm5Jbrz5s2T0+n0PXbs2HFS1wun8UPsKp06TDar//COzZqo0qnDqKMCAEA7mQzDCHm97DfffKO9e/e22ub000/XmjVrNG7cOO3fv1/Jycm+c2eccYamTZumuXPnav78+XrjjTe0adMm3/nq6mqdfvrp2rBhg84777yQ+lRfXy+r1Sqn0+n3vaKJyrQAALQu1M/vdlWm7devn/r169dmu++++06SZDb737Axm81yu92SpPz8fN13332qq6tTenq6JGnVqlVKTk5Wbm5ue7oVcyxmk/IH9o12NwAAiHsRmaOSn5+vlJQUXX/99fr444/16aef6rbbblN1dbUmTJggSRo3bpxyc3N17bXX6uOPP9bKlSt15513aubMmUpISIhEtwAAQJyJSFBJS0tTWVmZvv32W11yySU6//zz9eGHH2r58uU699xzJUkWi0VvvvmmLBaL8vPzNXXqVF133XX6wx/+EIkuAQCAONSuOSqxKBbnqAAAgNaF+vnNXj8AACBmtWsybVfCyh0AAKKPoBJAWWWNilds9dtk0G5NVNHEXGqhAADQgRj6aaasskaFSze02AnZ4WxU4dINKqs8uYJ1AAAgdASV47jchopXbFWg2cXeY8Urtsrljuv5xwAAxA2CynEqqve1uJNyPENSjbNRFdX7Oq5TAAB0YQSV49Q1BA8pJ9IOAACcHILKcdKTEttu1I52AADg5BBUjpOXkyq7NVHBFiGb5Fn9k5eT2pHdAgCgyyKoHMdiNqloomdDxOZhxfu8aGIu9VQAAOggBJVmxg+xq3TqMNms/sM7NmuiSqcOo44KAAAdiIJvAYwfYtdluTYq0wIAEGUElSAsZpPyB/aNdjcAAOjSGPoBAAAxi6ACAABiFkEFAADELIIKAACIWQQVAAAQswgqAAAgZhFUAABAzCKoAACAmEVQAQAAMSvuK9MahiFJqq+vj3JPAABAqLyf297P8WDiPqg0NDRIkrKzs6PcEwAA0F4NDQ2yWq1Bz5uMtqJMjHO73dq9e7eSkpJkMnW9TQPr6+uVnZ2tHTt2KDk5OdrdiUm8R63j/Wkd70/beI9ax/sTmGEYamhoUGZmpszm4DNR4v6OitlsVlZWVrS7EXXJycn8A2gD71HreH9ax/vTNt6j1vH+tNTanRQvJtMCAICYRVABAAAxi6AS5xISElRUVKSEhIRodyVm8R61jvendbw/beM9ah3vz8mJ+8m0AACg8+KOCgAAiFkEFQAAELMIKgAAIGYRVAAAQMwiqAAAgJhFUIljP/3pT9W/f38lJibKbrfr2muv1e7du/3abN68WaNGjVJiYqKys7O1cOHCKPW243311VeaNm2acnJy1KNHDw0cOFBFRUU6dOiQX7uu/B7dd999GjlypHr27Kk+ffoEbLN9+3ZNmDBBPXv2VHp6um677TYdOXKkYzsaRU8++aQGDBigxMREjRgxQhUVFdHuUlR88MEHmjhxojIzM2UymfT666/7nTcMQ/Pnz5fdblePHj00duxYffbZZ9HpbBSUlJToRz/6kZKSkpSenq5JkyapqqrKr01jY6Nmzpypvn37qnfv3poyZYpqa2uj1OP4QVCJY2PGjNFf/vIXVVVV6bXXXtMXX3yhK6+80ne+vr5e48aN02mnnab169frwQcf1N13363FixdHsdcdZ9u2bXK73Xr66ae1ZcsWPfzww1q0aJFuv/12X5uu/h4dOnRIV111lQoLCwOed7lcmjBhgg4dOqS1a9fqueee07PPPqv58+d3cE+j4+WXX9att96qoqIibdiwQeeee64KCgpUV1cX7a51uIMHD+rcc8/Vk08+GfD8woUL9dhjj2nRokX66KOP1KtXLxUUFKixsbGDexod77//vmbOnKl169Zp1apVOnz4sMaNG6eDBw/62txyyy1asWKFXnnlFb3//vvavXu3Jk+eHMVexwkDncby5csNk8lkHDp0yDAMw3jqqaeMlJQUo6mpyddmzpw5xqBBg6LVxahbuHChkZOT43vOe+SxZMkSw2q1tjj+t7/9zTCbzYbD4fAdKy0tNZKTk/3es84qLy/PmDlzpu+5y+UyMjMzjZKSkij2KvokGX/96199z91ut2Gz2YwHH3zQd+zAgQNGQkKC8eKLL0ahh9FXV1dnSDLef/99wzA870e3bt2MV155xdfm3//+tyHJKC8vj1Y34wJ3VDqJffv26fnnn9fIkSPVrVs3SVJ5ebkuvvhide/e3deuoKBAVVVV2r9/f7S6GlVOp1Opqam+57xHrSsvL9fZZ5+tjIwM37GCggLV19dry5YtUexZ5B06dEjr16/X2LFjfcfMZrPGjh2r8vLyKPYs9lRXV8vhcPi9V1arVSNGjOiy75XT6ZQk3/8369ev1+HDh/3eo7POOkv9+/fvsu9RqAgqcW7OnDnq1auX+vbtq+3bt2v58uW+cw6Hw+8DRpLvucPh6NB+xoLPP/9cjz/+uH71q1/5jvEeta4rvz979uyRy+UK+PN39p+9vbzvB++Vh9vt1qxZs3ThhRdqyJAhkjzvUffu3VvMBeuq71F7EFRizNy5c2UymVp9bNu2zdf+tttu08aNG/X222/LYrHouuuuk9HJd0Vo73skSbt27dL48eN11VVXafr06VHqecc4kfcHQPjMnDlTlZWVeumll6LdlU7hlGh3AP5mz56tG264odU2p59+uu/rtLQ0paWl6cwzz9QPf/hDZWdna926dcrPz5fNZmsxo9z73Gazhb3vHaW979Hu3bs1ZswYjRw5ssUk2c74HrX3/WmNzWZrscol3t+fUKWlpclisQT8+9HZf/b28r4ftbW1stvtvuO1tbUaOnRolHoVHTfddJPefPNNffDBB8rKyvIdt9lsOnTokA4cOOB3V4W/T20jqMSYfv36qV+/fif0WrfbLUlqamqSJOXn5+uOO+7Q4cOHffNWVq1apUGDBiklJSU8HY6C9rxHu3bt0pgxYzR8+HAtWbJEZrP/TcTO+B6dzN+h5vLz83Xfffeprq5O6enpkjzvT3JysnJzc8PyPWJV9+7dNXz4cK1evVqTJk2S5Pk3tnr1at10003R7VyMycnJkc1m0+rVq33BpL6+Xh999FHQFWWdjWEY+s1vfqO//vWveu+995STk+N3fvjw4erWrZtWr16tKVOmSJKqqqq0fft25efnR6PL8SPas3lxYtatW2c8/vjjxsaNG42vvvrKWL16tTFy5Ehj4MCBRmNjo2EYnlnmGRkZxrXXXmtUVlYaL730ktGzZ0/j6aefjnLvO8bOnTuNH/zgB8all15q7Ny506ipqfE9vLr6e/T1118bGzduNIqLi43evXsbGzduNDZu3Gg0NDQYhmEYR44cMYYMGWKMGzfO2LRpk1FWVmb069fPmDdvXpR73jFeeuklIyEhwXj22WeNrVu3GjNmzDD69Onjtwqqq2hoaPD9/ZBkPPTQQ8bGjRuNr7/+2jAMw7j//vuNPn36GMuXLzc2b95sXHHFFUZOTo7x/fffR7nnHaOwsNCwWq3Ge++95/d/zXfffedrc+ONNxr9+/c33n33XeNf//qXkZ+fb+Tn50ex1/GBoBKnNm/ebIwZM8ZITU01EhISjAEDBhg33nijsXPnTr92H3/8sXHRRRcZCQkJxqmnnmrcf//9Uepxx1uyZIkhKeDjeF35Pbr++usDvj9///vffW2++uor48c//rHRo0cPIy0tzZg9e7Zx+PDh6HW6gz3++ONG//79je7duxt5eXnGunXrot2lqPj73/8e8O/K9ddfbxiGZ4nyXXfdZWRkZBgJCQnGpZdealRVVUW30x0o2P81S5Ys8bX5/vvvjV//+tdGSkqK0bNnT+M//uM//H5xQmAmw+jkMy8BAEDcYtUPAACIWQQVAAAQswgqAAAgZhFUAABAzCKoAACAmEVQAQAAMYugAgAAYhZBBQAAxCyCCgAAiFkEFQAAELMIKgAAIGb9/zIl959o/QhAAAAAAElFTkSuQmCC)"
      ]
    },
    {
      "cell_type": "code",
      "execution_count": null,
      "metadata": {
        "id": "kcyNBMmqx43K"
      },
      "outputs": [],
      "source": [
        "plt.plot(train_set,train_set_labels,'o')\n",
        "plt.plot(test_set,test_set_labels,'or')"
      ]
    },
    {
      "cell_type": "markdown",
      "metadata": {
        "id": "QwoPFKVF63Q-"
      },
      "source": [
        "We will now implement our perceptron for linear regression, here is the skeleton of your python class"
      ]
    },
    {
      "cell_type": "code",
      "execution_count": null,
      "metadata": {
        "id": "dE09A9Bux41B"
      },
      "outputs": [],
      "source": [
        "class LinearRG:\n",
        "  def __init__(self,input_shape,epoch_nb,learning_rate=0.1):\n",
        "    self.weights = np.random.randn(*input_shape)\n",
        "    self.bias = np.random.randn(1)\n",
        "\n",
        "    self.learning_rate = learning_rate\n",
        "\n",
        "    self.epoch_nb = epoch_nb\n",
        "    \n",
        "\n",
        "  def inference(self,x):\n",
        "    #your code here\n",
        "\n",
        "  def MSE_loss(self,preds,y):\n",
        "    #your code here\n",
        "\n",
        "  def fit(self,x,y,x_test,y_test):\n",
        "    history = {\n",
        "        \"loss_history\" : [],\n",
        "        \"test_loss_history\" : [],\n",
        "        \"weights_history\" : [],\n",
        "        \"bias_history\" : [],\n",
        "    }\n",
        "    for epoch in range(self.epoch_nb):\n",
        "      #your code here\n",
        "\n",
        "  def update(self,x,y,preds,loss):\n",
        "    #your code here\n",
        "\n",
        "  \n",
        "    \n",
        "  "
      ]
    },
    {
      "cell_type": "markdown",
      "metadata": {
        "id": "74kVcPhX7Mt-"
      },
      "source": [
        "Based on the equations seen in class, we will now implement each function starting by inference:\n",
        "\n",
        "you know that the prediction of a neuron is the weighted sum: w*x +b\n",
        "\n",
        "first implement the stand alone function and check your results, then inplement it in your class using the keyword \"self\" to acces members of the class"
      ]
    },
    {
      "cell_type": "code",
      "execution_count": 25,
      "metadata": {
        "colab": {
          "base_uri": "https://localhost:8080/"
        },
        "id": "mUS9ht2ox4yq",
        "outputId": "b9db02cc-4d68-435f-884e-bd31981e0f93"
      },
      "outputs": [
        {
          "data": {
            "text/plain": [
              "2"
            ]
          },
          "execution_count": 25,
          "metadata": {},
          "output_type": "execute_result"
        }
      ],
      "source": [
        "inpt_shape = x.shape[1:]\n",
        "\n",
        "w = np.random.randn(*input_shape)\n",
        "self.bias = np.random.randn(1)\n",
        "\n",
        "def inference(w,b,x):\n",
        "  #your code here\n",
        "  out = #your code here\n",
        "  return out\n",
        "\n",
        "preds = inference(w,b,x)"
      ]
    },
    {
      "cell_type": "markdown",
      "metadata": {
        "id": "5gNoB-34-Usr"
      },
      "source": [
        "You will then implement the MSE loss function, using np.sum, and knowing:"
      ]
    },
    {
      "cell_type": "markdown",
      "metadata": {
        "id": "bpz5Nf18-cEr"
      },
      "source": [
        "![mes_formula.png](data:image/png;base64,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)"
      ]
    },
    {
      "cell_type": "markdown",
      "metadata": {
        "id": "sb52zkuO_dFH"
      },
      "source": [
        "Make sure that your shape stay consistant with (size, nb_features), numpy often does a lot of abstraction on its operation and might mess up your shapes, look up numpy.reshape if necessary"
      ]
    },
    {
      "cell_type": "code",
      "execution_count": null,
      "metadata": {
        "id": "oLPiS4fRx4wR"
      },
      "outputs": [],
      "source": [
        "def MSE_loss(preds,y):\n",
        "  #your code here\n",
        "  loss = #your code here\n",
        "  return loss\n",
        "\n",
        "loss = MSE_loss(preds,y)"
      ]
    },
    {
      "cell_type": "markdown",
      "metadata": {
        "id": "etIB8sNlB8-4"
      },
      "source": [
        "You still have the update function to code beofre you can implement the whole main loop, using these formulas from the class:"
      ]
    },
    {
      "cell_type": "markdown",
      "metadata": {
        "id": "qKC4V2-6TRYf"
      },
      "source": [
        "![update_rule.png](data:image/png;base64,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)"
      ]
    },
    {
      "cell_type": "markdown",
      "metadata": {},
      "source": [
        "[<img src=\"image/jacobian_from_scratch.png\" width=\"350\"/>](image/jacobian_from_scratch.png)"
      ]
    },
    {
      "cell_type": "code",
      "execution_count": null,
      "metadata": {
        "id": "X0oBU94WSlTz"
      },
      "outputs": [],
      "source": [
        "def update(x,y,preds,w,b):\n",
        "    #your code here\n",
        "    w= #your code here\n",
        "    b= #your code here\n",
        "    return w,b\n",
        "\n",
        "w,b = update(x,y,preds,w,b)"
      ]
    },
    {
      "cell_type": "markdown",
      "metadata": {
        "id": "hWXaxFChB1s3"
      },
      "source": [
        "Now tat you have coded the different operations used in training, you can put the corresponding functions in the original skeleton class and implement the main training loop using the algorithm recap,:\n",
        "\n",
        "- Initialize weights at randomn sample from N(0,σ^2)\n",
        "\n",
        "- Main loop :\n",
        "\n",
        "  - Forward/Infere the data through the model\n",
        "\n",
        "  - Compute the loss and gradients\n",
        "  \n",
        "  - Update the weights\n",
        "\n",
        "  - Check for convergence and stop if reached\n",
        "\n",
        "- Return model\n",
        "\n",
        "Dont forget to make use of the history dictionary to log your training progress by using for example \n",
        "`history[\"loss_history\"].append(loss)`\n",
        "\n",
        "`history[\"weights_history\"].append(self.weights)`\n",
        "\n",
        "As well as computing and logging the loss on the test_set as well"
      ]
    },
    {
      "cell_type": "markdown",
      "metadata": {
        "id": "-LM-77iIZEE0"
      },
      "source": [
        "Once you have implemented your model, you can instaciate it and test it this way"
      ]
    },
    {
      "cell_type": "code",
      "execution_count": null,
      "metadata": {
        "id": "QqW7FWVUx4ts"
      },
      "outputs": [],
      "source": [
        "model = LinearRG(train_set.shape[1:],100,learning_rate=0.001)"
      ]
    },
    {
      "cell_type": "code",
      "execution_count": null,
      "metadata": {
        "id": "G2zHP9klx4rI"
      },
      "outputs": [],
      "source": [
        "hist = model.fit(train_set,train_set_labels,test_set,test_set_labels)"
      ]
    },
    {
      "cell_type": "code",
      "execution_count": null,
      "metadata": {
        "id": "VVbGfP-Hx4od"
      },
      "outputs": [],
      "source": [
        "plt.plot(hist[\"loss_history\"])\n",
        "plt.plot(hist[\"test_loss_history\"])"
      ]
    },
    {
      "cell_type": "code",
      "execution_count": null,
      "metadata": {
        "id": "zFSI51B9cS8n"
      },
      "outputs": [],
      "source": [
        "preds = model.inference(x)\n",
        "plt.plot(x,preds)\n",
        "plt.plot(x,y,\"or\")"
      ]
    },
    {
      "cell_type": "code",
      "execution_count": null,
      "metadata": {
        "id": "0bduhfNxcWoh"
      },
      "outputs": [],
      "source": [
        "history_w = hist[\"weights_history\"]\n",
        "history_b = hist[\"bias_history\"]\n",
        "for t,(w,b) in enumerate(zip(history_w,history_b)):\n",
        "    plt.plot(x, x*w+b, 'r-', alpha=t/len(history_w), label=str(t))\n",
        "plt.plot(x,y,\"o\")"
      ]
    },
    {
      "cell_type": "markdown",
      "metadata": {
        "id": "m3cf630LcZaE"
      },
      "source": [
        "To see the impact of learning rate, you may try to instanciate another model giving it the value 1, and repeating the process above"
      ]
    },
    {
      "cell_type": "code",
      "execution_count": null,
      "metadata": {
        "id": "EXI_32FBcp8A"
      },
      "outputs": [],
      "source": [
        "model = LinearRG(train_set.shape[1:],100,learning_rate=1)"
      ]
    },
    {
      "cell_type": "markdown",
      "metadata": {
        "id": "f0GaY-YCc7Bn"
      },
      "source": [
        "Moreover the bias tend to need more time to converge than the weights, try to train for longer and print the model values to see if you can get back the original parameters (for exemple 1000 epochs)"
      ]
    },
    {
      "cell_type": "code",
      "execution_count": null,
      "metadata": {
        "id": "CYiAPP58dc43"
      },
      "outputs": [],
      "source": [
        "print(model.weights)\n",
        "print(model.bias)"
      ]
    }
  ],
  "metadata": {
    "colab": {
      "provenance": []
    },
    "kernelspec": {
      "display_name": "Python 3",
      "name": "python3"
    },
    "language_info": {
      "codemirror_mode": {
        "name": "ipython",
        "version": 3
      },
      "file_extension": ".py",
      "mimetype": "text/x-python",
      "name": "python",
      "nbconvert_exporter": "python",
      "pygments_lexer": "ipython3",
      "version": "3.8.19"
    }
  },
  "nbformat": 4,
  "nbformat_minor": 0
}
